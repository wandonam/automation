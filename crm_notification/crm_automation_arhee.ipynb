{
 "cells": [
  {
   "cell_type": "code",
   "execution_count": 13,
   "metadata": {},
   "outputs": [],
   "source": [
    "import pandas as pd\n",
    "import numpy as np\n",
    "from datetime import datetime, timedelta\n",
    "from openpyxl import load_workbook\n",
    "from openpyxl.styles import NamedStyle"
   ]
  },
  {
   "cell_type": "code",
   "execution_count": 14,
   "metadata": {},
   "outputs": [],
   "source": [
    "#drvie: 주문서(전처리)\n",
    "df = pd.read_excel(f'./data/raw_2024.xlsx')\n",
    "#cafe24: 고객 -> 회원조회 -> 주문 회원 조회\n",
    "db_user = pd.read_csv(f'./data/db_order_a.csv')\n",
    "#drive: gross management\n",
    "db_product = pd.read_excel(f'./data/db_product.xlsx')"
   ]
  },
  {
   "cell_type": "code",
   "execution_count": 15,
   "metadata": {},
   "outputs": [],
   "source": [
    "df = df[df['매출처'] == '아르히']\n",
    "df = df[df['결제일'] >= '2024-05-01']"
   ]
  },
  {
   "cell_type": "code",
   "execution_count": 16,
   "metadata": {},
   "outputs": [],
   "source": [
    "merged_df = df.merge(db_user, left_on='쇼핑몰 주문번호', right_on='최근 주문번호', how='left')\n",
    "merged_df2 = merged_df.merge(db_product, left_on='옵션코드', right_on='품목코드', how='left')"
   ]
  },
  {
   "cell_type": "code",
   "execution_count": 17,
   "metadata": {},
   "outputs": [],
   "source": [
    "merged_df2['할인율'] = np.where(merged_df2['20%\\n쿠폰'] == 'O', '20%', \n",
    "                             np.where(merged_df2['10%\\n쿠폰'] == 'O', '10%', '0%'))"
   ]
  },
  {
   "cell_type": "code",
   "execution_count": 18,
   "metadata": {},
   "outputs": [],
   "source": [
    "crm = pd.DataFrame()\n",
    "crm['date'] = merged_df2['결제일']\n",
    "crm['order_no'] = merged_df2['쇼핑몰 주문번호']\n",
    "crm['order_code'] = merged_df2['옵션코드']\n",
    "crm['order_prod'] = merged_df2['상품명_x']\n",
    "crm['user_name'] = merged_df2['이름']\n",
    "crm['user_tel'] = merged_df2['휴대폰']\n",
    "crm['period'] = merged_df2['섭취\\n기간']\n",
    "crm['url'] = merged_df2['URL']\n",
    "crm['scheme'] = merged_df2['할인율']"
   ]
  },
  {
   "cell_type": "code",
   "execution_count": 19,
   "metadata": {},
   "outputs": [],
   "source": [
    "crm = crm.dropna(subset=['user_tel', 'period', 'url'])\n",
    "crm['period'] = crm['period'].fillna(0).astype(int)\n",
    "crm['send'] = crm['date'] + crm['period'].apply(lambda x: timedelta(days=x))\n",
    "crm['sending_crm'] = crm['send'].apply(lambda x: x + timedelta(days=(5 - x.weekday()) % 7))"
   ]
  },
  {
   "cell_type": "code",
   "execution_count": 20,
   "metadata": {},
   "outputs": [],
   "source": [
    "today = datetime.today()\n",
    "this_saturday = today + timedelta((5-today.weekday()) % 7)\n",
    "this_saturday_f = this_saturday.strftime('%Y-%m-%d')"
   ]
  },
  {
   "cell_type": "code",
   "execution_count": 21,
   "metadata": {},
   "outputs": [],
   "source": [
    "crm_filtered = crm[crm['sending_crm'] == this_saturday_f]"
   ]
  },
  {
   "cell_type": "code",
   "execution_count": 22,
   "metadata": {},
   "outputs": [],
   "source": [
    "this_saturday_str = this_saturday.strftime('%y%m%d')"
   ]
  },
  {
   "cell_type": "code",
   "execution_count": 23,
   "metadata": {},
   "outputs": [],
   "source": [
    "output_path = f'./data/{this_saturday_str}_crm_arhee.xlsx'\n",
    "crm_filtered.to_excel(output_path, index=False, engine='openpyxl')\n",
    "\n",
    "wb = load_workbook(output_path)\n",
    "ws = wb.active"
   ]
  },
  {
   "cell_type": "code",
   "execution_count": 24,
   "metadata": {},
   "outputs": [],
   "source": [
    "date_columns = ['A', 'J', 'K']\n",
    "date_style = NamedStyle(name='datetime', number_format='YYYY-MM-DD')\n",
    "\n",
    "for col in date_columns:\n",
    "    for cell in ws[col][1:]:\n",
    "        cell.style = date_style\n",
    "\n",
    "wb.save(output_path)"
   ]
  }
 ],
 "metadata": {
  "kernelspec": {
   "display_name": "Python 3",
   "language": "python",
   "name": "python3"
  },
  "language_info": {
   "codemirror_mode": {
    "name": "ipython",
    "version": 3
   },
   "file_extension": ".py",
   "mimetype": "text/x-python",
   "name": "python",
   "nbconvert_exporter": "python",
   "pygments_lexer": "ipython3",
   "version": "3.12.4"
  }
 },
 "nbformat": 4,
 "nbformat_minor": 2
}
