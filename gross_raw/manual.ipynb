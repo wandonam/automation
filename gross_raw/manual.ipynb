{
  "cells": [
    {
      "cell_type": "markdown",
      "metadata": {},
      "source": [
        "#### <mark>**gross management(g.sheet) !raw(2024)**</mark>\n",
        "* A~J컬럼까지 데이터 작성"
      ]
    },
    {
      "cell_type": "markdown",
      "metadata": {},
      "source": [
        "https://docs.google.com/spreadsheets/d/1r16TLS5P5Yrl-4M7KsgRC618K3Nb74Aa63ZFiyQ9IRM/edit?usp=sharing"
      ]
    },
    {
      "cell_type": "markdown",
      "metadata": {},
      "source": [
        "---"
      ]
    },
    {
      "cell_type": "markdown",
      "metadata": {
        "id": "WRii1PLiR801"
      },
      "source": [
        "##### <mark>**CAFE24** (마이해빗 / 바이탈핏 / 아르히)</mark>"
      ]
    },
    {
      "cell_type": "markdown",
      "metadata": {
        "id": "zX5QSPksSLNn"
      },
      "source": [
        "https://eclogin.cafe24.com/Shop/"
      ]
    },
    {
      "cell_type": "markdown",
      "metadata": {
        "id": "x-gLeOmjPoTY"
      },
      "source": [
        "1. 주문 -> 전체 주문 조회 -> 전날 주문 검색 -> 엑셀 다운로드 (온라인md팀-매출시트용)\n",
        "2. 주문상태(column) 주문 건 제외한 row 삭제\n",
        "3. 주문경로(column) 값 변경\n",
        ">- 모바일웹 -> **자사몰**\n",
        ">- 쿠팡 -> **쿠팡윙**"
      ]
    },
    {
      "cell_type": "markdown",
      "metadata": {},
      "source": [
        "*컬럼 K 제외 나머지 동일*"
      ]
    },
    {
      "cell_type": "markdown",
      "metadata": {},
      "source": [
        "---"
      ]
    },
    {
      "cell_type": "markdown",
      "metadata": {
        "id": "TFCUz_ClP3uu"
      },
      "source": [
        "##### <mark>**스마트스토어** (마이해빗 / 바이탈핏)</mark>"
      ]
    },
    {
      "cell_type": "markdown",
      "metadata": {
        "id": "T3r4EFXoSWmX"
      },
      "source": [
        "https://sell.smartstore.naver.com/#/home/about"
      ]
    },
    {
      "cell_type": "markdown",
      "metadata": {
        "id": "zLd3Q7qXSFy9"
      },
      "source": [
        "1. 판매관리 -> 발주(주문)확인/발송관리 -> 전날 주문 검색 -> 엑셀 다운로드\n",
        "2. CAFE24 양식에 맞춰서 데이터 이동\n",
        "3. 주문경로(column) **스마트스토어** 입력\n",
        "\n"
      ]
    },
    {
      "cell_type": "markdown",
      "metadata": {},
      "source": [
        ">* A <- (a)결제일\n",
        ">* B <- (a)결제일\n",
        ">* C <- 직접입력 '스마트스토어'\n",
        ">* D <- (c)주문번호\n",
        ">* E <- (d)상품번호\n",
        ">* F <- (d)상품번호\n",
        ">* G <- (h)수량\n",
        ">* H <- (t)상품별 총 주문금액\n",
        ">* I <- (z)배송비 합계\n",
        ">* J <- (z)배송비 합계"
      ]
    },
    {
      "cell_type": "markdown",
      "metadata": {},
      "source": [
        "---"
      ]
    },
    {
      "cell_type": "markdown",
      "metadata": {
        "id": "_IV7GBZ90v16"
      },
      "source": [
        "##### <mark>**쿠팡**</mark>"
      ]
    },
    {
      "cell_type": "markdown",
      "metadata": {
        "id": "cZ55EfPO0v17"
      },
      "source": [
        "https://wing.coupang.com/"
      ]
    },
    {
      "cell_type": "markdown",
      "metadata": {
        "id": "6sBNZwI60v18"
      },
      "source": [
        "1. 판매통계 -> 상품타입(로켓그로스) -> 전날 주문 검색 -> 엑셀 다운로드\n",
        "2. CAFE24 양식에 맞춰서 데이터 이동\n",
        "3. 주문경로(column) **로켓그로스** 입력\n",
        "4. 데이터는 일별로 다운로드"
      ]
    },
    {
      "cell_type": "markdown",
      "metadata": {},
      "source": [
        ">* A <- 직접입력 '매출일'\n",
        ">* B <- 직접입력 '매출일'\n",
        ">* C <- 직접입력 '로켓그로스'\n",
        ">* D <- (a)노출상품ID\n",
        ">* E <- (a)노출상품ID\n",
        ">* F <- (b)옵션ID\n",
        ">* G <- (h)순 판매 상품 수(전체 거래 상품 수 - 취소 상품 수)\n",
        ">* H <- (g)순 판매 금액(전체 거래 금액 - 취소 금액)\n",
        ">* I <- 직접입력 '0'\n",
        ">* J <- 직접입력 '0'"
      ]
    }
  ],
  "metadata": {
    "colab": {
      "provenance": []
    },
    "kernelspec": {
      "display_name": "Python 3",
      "name": "python3"
    },
    "language_info": {
      "name": "python"
    }
  },
  "nbformat": 4,
  "nbformat_minor": 0
}
